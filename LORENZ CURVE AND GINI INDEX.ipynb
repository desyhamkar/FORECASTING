{
 "cells": [
  {
   "cell_type": "markdown",
   "metadata": {},
   "source": [
    "### TASK 1\n",
    "- Name    : Bq Desy Hardianti\n",
    "- Subject : Statistical Market Research"
   ]
  },
  {
   "cell_type": "code",
   "execution_count": 73,
   "metadata": {},
   "outputs": [],
   "source": [
    "import numpy as np\n",
    "import pandas as pd\n",
    "import seaborn as sns\n",
    "%matplotlib inline\n",
    "import matplotlib.pyplot as plt\n",
    "import scipy.stats as stats"
   ]
  },
  {
   "cell_type": "code",
   "execution_count": 74,
   "metadata": {},
   "outputs": [],
   "source": [
    "df = pd.read_excel('task1.xlsx')"
   ]
  },
  {
   "cell_type": "code",
   "execution_count": 75,
   "metadata": {},
   "outputs": [
    {
     "data": {
      "text/html": [
       "<div>\n",
       "<style scoped>\n",
       "    .dataframe tbody tr th:only-of-type {\n",
       "        vertical-align: middle;\n",
       "    }\n",
       "\n",
       "    .dataframe tbody tr th {\n",
       "        vertical-align: top;\n",
       "    }\n",
       "\n",
       "    .dataframe thead th {\n",
       "        text-align: right;\n",
       "    }\n",
       "</style>\n",
       "<table border=\"1\" class=\"dataframe\">\n",
       "  <thead>\n",
       "    <tr style=\"text-align: right;\">\n",
       "      <th></th>\n",
       "      <th>No</th>\n",
       "      <th>valure of sales 2015</th>\n",
       "      <th>valure of sales 2019</th>\n",
       "    </tr>\n",
       "  </thead>\n",
       "  <tbody>\n",
       "    <tr>\n",
       "      <th>0</th>\n",
       "      <td>1</td>\n",
       "      <td>76.523084</td>\n",
       "      <td>57.294400</td>\n",
       "    </tr>\n",
       "    <tr>\n",
       "      <th>1</th>\n",
       "      <td>2</td>\n",
       "      <td>35.633224</td>\n",
       "      <td>85.577581</td>\n",
       "    </tr>\n",
       "    <tr>\n",
       "      <th>2</th>\n",
       "      <td>3</td>\n",
       "      <td>1.323998</td>\n",
       "      <td>17.424832</td>\n",
       "    </tr>\n",
       "    <tr>\n",
       "      <th>3</th>\n",
       "      <td>4</td>\n",
       "      <td>75.863565</td>\n",
       "      <td>16.559197</td>\n",
       "    </tr>\n",
       "    <tr>\n",
       "      <th>4</th>\n",
       "      <td>5</td>\n",
       "      <td>60.090929</td>\n",
       "      <td>40.271327</td>\n",
       "    </tr>\n",
       "  </tbody>\n",
       "</table>\n",
       "</div>"
      ],
      "text/plain": [
       "   No  valure of sales 2015  valure of sales 2019\n",
       "0   1             76.523084             57.294400\n",
       "1   2             35.633224             85.577581\n",
       "2   3              1.323998             17.424832\n",
       "3   4             75.863565             16.559197\n",
       "4   5             60.090929             40.271327"
      ]
     },
     "execution_count": 75,
     "metadata": {},
     "output_type": "execute_result"
    }
   ],
   "source": [
    "df.head()"
   ]
  },
  {
   "cell_type": "code",
   "execution_count": 76,
   "metadata": {},
   "outputs": [
    {
     "data": {
      "text/plain": [
       "<AxesSubplot:>"
      ]
     },
     "execution_count": 76,
     "metadata": {},
     "output_type": "execute_result"
    },
    {
     "data": {
      "image/png": "[encoded data removed]",
      "text/plain": [
       "<Figure size 432x288 with 1 Axes>"
      ]
     },
     "metadata": {
      "needs_background": "light"
     },
     "output_type": "display_data"
    }
   ],
   "source": [
    "df['valure of sales 2015'].hist()"
   ]
  },
  {
   "cell_type": "code",
   "execution_count": 77,
   "metadata": {},
   "outputs": [
    {
     "data": {
      "text/plain": [
       "<AxesSubplot:>"
      ]
     },
     "execution_count": 77,
     "metadata": {},
     "output_type": "execute_result"
    },
    {
     "data": {
      "image/png": "[encoded data removed]",
      "text/plain": [
       "<Figure size 432x288 with 1 Axes>"
      ]
     },
     "metadata": {
      "needs_background": "light"
     },
     "output_type": "display_data"
    }
   ],
   "source": [
    "df['valure of sales 2019'].hist(color='orange')"
   ]
  },
  {
   "cell_type": "markdown",
   "metadata": {},
   "source": [
    "### LOOKING AT THE PERCENTILES\n",
    "We want to look at the different distributions according to quartiles or chunks of rouhly 20% of the data in order.\n",
    "\n",
    "To do that, I will sort the values of sales and break them into 5 sized group"
   ]
  },
  {
   "cell_type": "code",
   "execution_count": 78,
   "metadata": {},
   "outputs": [
    {
     "data": {
      "text/plain": [
       "2      1.323998\n",
       "16     2.868126\n",
       "7      4.810172\n",
       "9      6.862162\n",
       "14     9.816658\n",
       "13    10.261478\n",
       "22    13.058723\n",
       "27    13.536085\n",
       "24    17.117302\n",
       "6     17.440864\n",
       "28    27.012682\n",
       "17    32.969804\n",
       "1     35.633224\n",
       "8     35.934387\n",
       "15    39.389270\n",
       "31    40.809445\n",
       "20    46.840854\n",
       "30    46.843175\n",
       "19    49.424638\n",
       "18    49.613665\n",
       "29    50.885452\n",
       "4     60.090929\n",
       "23    61.533835\n",
       "21    66.910108\n",
       "12    72.113825\n",
       "3     75.863565\n",
       "0     76.523084\n",
       "26    77.958136\n",
       "10    78.704876\n",
       "11    82.312696\n",
       "5     86.664264\n",
       "25    94.404166\n",
       "Name: valure of sales 2015, dtype: float64"
      ]
     },
     "execution_count": 78,
     "metadata": {},
     "output_type": "execute_result"
    }
   ],
   "source": [
    "#Sort data 2015\n",
    "df['valure of sales 2015'].sort_values()"
   ]
  },
  {
   "cell_type": "code",
   "execution_count": 79,
   "metadata": {},
   "outputs": [
    {
     "data": {
      "text/plain": [
       "11     6.085009\n",
       "26     7.086723\n",
       "18    10.251106\n",
       "19    11.954667\n",
       "3     16.559197\n",
       "2     17.424832\n",
       "27    24.590670\n",
       "22    33.020362\n",
       "14    39.791001\n",
       "4     40.271327\n",
       "7     43.583086\n",
       "16    49.333936\n",
       "5     49.504440\n",
       "20    55.995872\n",
       "23    57.292351\n",
       "0     57.294400\n",
       "9     57.816839\n",
       "29    60.224714\n",
       "10    61.129666\n",
       "6     63.676410\n",
       "8     67.757831\n",
       "31    74.542020\n",
       "12    78.064883\n",
       "17    83.627765\n",
       "1     85.577581\n",
       "24    87.905224\n",
       "13    89.020762\n",
       "30    93.920865\n",
       "25    94.700056\n",
       "15    95.899358\n",
       "21    98.738836\n",
       "28    99.062636\n",
       "Name: valure of sales 2019, dtype: float64"
      ]
     },
     "execution_count": 79,
     "metadata": {},
     "output_type": "execute_result"
    }
   ],
   "source": [
    "#Sort data 2019\n",
    "df['valure of sales 2019'].sort_values()"
   ]
  },
  {
   "cell_type": "code",
   "execution_count": 80,
   "metadata": {},
   "outputs": [
    {
     "data": {
      "text/plain": [
       "32"
      ]
     },
     "execution_count": 80,
     "metadata": {},
     "output_type": "execute_result"
    }
   ],
   "source": [
    "len(df['valure of sales 2015'])"
   ]
  },
  {
   "cell_type": "code",
   "execution_count": 81,
   "metadata": {},
   "outputs": [],
   "source": [
    "sorted_2015 = df['valure of sales 2015'].sort_values() "
   ]
  },
  {
   "cell_type": "code",
   "execution_count": 82,
   "metadata": {},
   "outputs": [
    {
     "data": {
      "text/plain": [
       "6.4"
      ]
     },
     "execution_count": 82,
     "metadata": {},
     "output_type": "execute_result"
    }
   ],
   "source": [
    "32/5"
   ]
  },
  {
   "cell_type": "code",
   "execution_count": 83,
   "metadata": {},
   "outputs": [],
   "source": [
    "#build group\n",
    "first_Q = sorted_2015[:6].sum()/sorted_2015.sum()\n",
    "second_Q = sorted_2015[:12].sum()/sorted_2015.sum()\n",
    "third_Q = sorted_2015[:18].sum()/sorted_2015.sum()\n",
    "forth_Q = sorted_2015[:24].sum()/sorted_2015.sum()\n",
    "fifth_Q = sorted_2015.sum()/sorted_2015.sum()"
   ]
  },
  {
   "cell_type": "code",
   "execution_count": 84,
   "metadata": {},
   "outputs": [],
   "source": [
    "points2015 = [0,first_Q,second_Q,third_Q,forth_Q,fifth_Q]\n",
    "x=[0, .2, .4, .6, .8, 1.0]"
   ]
  },
  {
   "cell_type": "code",
   "execution_count": 85,
   "metadata": {},
   "outputs": [
    {
     "data": {
      "text/plain": [
       "[0,\n",
       " 0.0259413730002286,\n",
       " 0.11337023885624212,\n",
       " 0.2905227099731326,\n",
       " 0.5348033995606826,\n",
       " 1.0]"
      ]
     },
     "execution_count": 85,
     "metadata": {},
     "output_type": "execute_result"
    }
   ],
   "source": [
    "points2015"
   ]
  },
  {
   "cell_type": "markdown",
   "metadata": {},
   "source": [
    "### The points above mean\n",
    "- 0,025 or 2,5 % of the values of sales are controlled by 20%\n",
    "- 0.11337023885624212 of the values of sales are controlled by 40%\n",
    "- 0.2905227099731326 of the values of sales are controlled by 60%\n",
    "- 0.5348033995606826 of the values of sales are controlled by 80%\n",
    "- 1.0 of the values of sales are controlled by 100%"
   ]
  },
  {
   "cell_type": "code",
   "execution_count": 86,
   "metadata": {},
   "outputs": [],
   "source": [
    "#PLOTTING VALUE OF SALES 2015 "
   ]
  },
  {
   "cell_type": "code",
   "execution_count": 87,
   "metadata": {},
   "outputs": [
    {
     "data": {
      "image/png": "[encoded data removed]",
      "text/plain": [
       "<Figure size 432x288 with 1 Axes>"
      ]
     },
     "metadata": {
      "needs_background": "light"
     },
     "output_type": "display_data"
    }
   ],
   "source": [
    "plt.plot(x, points2015, '--o')\n",
    "plt.plot(x, x, '--o');\n",
    "plt.title('Value of Sales Distribution in 2015');"
   ]
  },
  {
   "cell_type": "markdown",
   "metadata": {},
   "source": [
    "### INTERPRETATION OF DATA\n",
    "Yellow line is the Gini Index Line\n",
    "Blue line is the Lorenz Curve Line\n",
    "\n",
    "Now we look at the Gini Index as the ratio of the area between those curve to the area in the triangle"
   ]
  },
  {
   "cell_type": "markdown",
   "metadata": {},
   "source": [
    "### FITTING THE POLYNOMIAL\n",
    "\n",
    "We will create a function through the given points. I use numpy to determine the polynomial till we find a goot fit to our real data\n"
   ]
  },
  {
   "cell_type": "code",
   "execution_count": 88,
   "metadata": {},
   "outputs": [],
   "source": [
    "# 4th degree polynomial\n",
    "coefs2015 = np.polyfit(x, points2015, 4)"
   ]
  },
  {
   "cell_type": "code",
   "execution_count": 89,
   "metadata": {},
   "outputs": [
    {
     "data": {
      "text/plain": [
       "array([ 1.63478620e+00, -2.42541044e+00,  2.00278164e+00, -2.13960690e-01,\n",
       "        9.01645152e-04])"
      ]
     },
     "execution_count": 89,
     "metadata": {},
     "output_type": "execute_result"
    }
   ],
   "source": [
    "coefs2015"
   ]
  },
  {
   "cell_type": "code",
   "execution_count": 90,
   "metadata": {},
   "outputs": [
    {
     "data": {
      "text/plain": [
       "array([9.01645152e-04, 2.14331472e-02, 1.22386690e-01, 2.81506258e-01,\n",
       "       5.39311625e-01, 9.99098355e-01])"
      ]
     },
     "execution_count": 90,
     "metadata": {},
     "output_type": "execute_result"
    }
   ],
   "source": [
    "# evaluate the polynomial\n",
    "np.polyval(coefs2015,x)"
   ]
  },
  {
   "cell_type": "code",
   "execution_count": 91,
   "metadata": {},
   "outputs": [
    {
     "data": {
      "image/png": "[encoded data removed]",
      "text/plain": [
       "<Figure size 432x288 with 1 Axes>"
      ]
     },
     "metadata": {
      "needs_background": "light"
     },
     "output_type": "display_data"
    }
   ],
   "source": [
    "#PLOTTING 2015\n",
    "plt.plot(x, np.polyval(coefs2015,x),'--v', label ='approximation')\n",
    "plt.plot(x, points2015, '--o', label = 'data')\n",
    "plt.plot(x, x,color='green');\n",
    "plt.title('FITTED CURVE AGAINST DATA');"
   ]
  },
  {
   "cell_type": "code",
   "execution_count": 92,
   "metadata": {},
   "outputs": [
    {
     "data": {
      "text/plain": [
       "array([ 1.635e+00, -2.425e+00,  2.003e+00, -2.140e-01,  1.000e-03])"
      ]
     },
     "execution_count": 92,
     "metadata": {},
     "output_type": "execute_result"
    }
   ],
   "source": [
    "np.round(coefs2015, decimals =3)"
   ]
  },
  {
   "cell_type": "markdown",
   "metadata": {},
   "source": [
    "We will use a simpler version of the polynomial and check that ot is a reasonable approximation"
   ]
  },
  {
   "cell_type": "code",
   "execution_count": 93,
   "metadata": {},
   "outputs": [],
   "source": [
    "## LORENZ CURVE 2015\n",
    "def L(x):\n",
    "    return 1.63*x**4 -2.425*x**3 + 2.003*x**2 -.214*x"
   ]
  },
  {
   "cell_type": "code",
   "execution_count": 94,
   "metadata": {},
   "outputs": [],
   "source": [
    "def E(x): return x"
   ]
  },
  {
   "cell_type": "code",
   "execution_count": 95,
   "metadata": {},
   "outputs": [],
   "source": [
    "x = np.array(x)"
   ]
  },
  {
   "cell_type": "code",
   "execution_count": 96,
   "metadata": {
    "scrolled": true
   },
   "outputs": [
    {
     "data": {
      "image/png": "[encoded data removed]",
      "text/plain": [
       "<Figure size 432x288 with 1 Axes>"
      ]
     },
     "metadata": {
      "needs_background": "light"
     },
     "output_type": "display_data"
    }
   ],
   "source": [
    "plt.plot(x, L(x), '--o')\n",
    "plt.plot(x, points2015);"
   ]
  },
  {
   "cell_type": "markdown",
   "metadata": {},
   "source": [
    "Now we see from the graph above we have function right above our data"
   ]
  },
  {
   "cell_type": "markdown",
   "metadata": {},
   "source": [
    "## GINI INDEX\n",
    "\n",
    "to compute the gini index\n"
   ]
  },
  {
   "cell_type": "code",
   "execution_count": 97,
   "metadata": {},
   "outputs": [
    {
     "data": {
      "image/png": "[encoded data removed]",
      "text/plain": [
       "<Figure size 432x288 with 1 Axes>"
      ]
     },
     "metadata": {
      "needs_background": "light"
     },
     "output_type": "display_data"
    }
   ],
   "source": [
    "#PLOTTING 2015\n",
    "plt.plot(x, L(x), '--o', label = 'Lorenz')\n",
    "plt.plot(x, E(x),color='pink', label='Equality');\n",
    "plt.fill_between(x, L(x),E(x), color='yellow',alpha=0.6)\n",
    "plt.fill_between(x, L(x),color='lightblue',alpha=0.6)\n",
    "plt.text(0.4, 0.2, 'A1',size=16)\n",
    "plt.text(0.8, 0.1, 'A2',size=16)\n",
    "plt.legend();"
   ]
  },
  {
   "cell_type": "markdown",
   "metadata": {},
   "source": [
    "## EVALUATING THE INTEGRAL"
   ]
  },
  {
   "cell_type": "code",
   "execution_count": 98,
   "metadata": {},
   "outputs": [],
   "source": [
    "#AREA UNDER THE CURVE\n",
    "from scipy.integrate import quad"
   ]
  },
  {
   "cell_type": "code",
   "execution_count": 99,
   "metadata": {},
   "outputs": [],
   "source": [
    "def a1(x):\n",
    "    return E(x) - L(x)"
   ]
  },
  {
   "cell_type": "code",
   "execution_count": 100,
   "metadata": {},
   "outputs": [
    {
     "data": {
      "text/plain": [
       "0.21958333333333324"
      ]
     },
     "execution_count": 100,
     "metadata": {},
     "output_type": "execute_result"
    }
   ],
   "source": [
    "quad(a1,0,1)[0] # let's find the area from 0 to 1"
   ]
  },
  {
   "cell_type": "code",
   "execution_count": 101,
   "metadata": {},
   "outputs": [
    {
     "data": {
      "text/plain": [
       "0.4391666666666665"
      ]
     },
     "execution_count": 101,
     "metadata": {},
     "output_type": "execute_result"
    }
   ],
   "source": [
    "2*quad(a1,0,1)[0]"
   ]
  },
  {
   "cell_type": "markdown",
   "metadata": {},
   "source": [
    "#### So we get from data Gini index for Value of sales 2015 is 0.4391 or 43,91%.\n",
    "#### What does this mean that from gini index we get it was pretty equal. The lower the value the more equal distribution"
   ]
  },
  {
   "cell_type": "markdown",
   "metadata": {},
   "source": [
    "### VALUE OF SALES 2019"
   ]
  },
  {
   "cell_type": "code",
   "execution_count": 111,
   "metadata": {},
   "outputs": [
    {
     "data": {
      "text/plain": [
       "11     6.085009\n",
       "26     7.086723\n",
       "18    10.251106\n",
       "19    11.954667\n",
       "3     16.559197\n",
       "2     17.424832\n",
       "27    24.590670\n",
       "22    33.020362\n",
       "14    39.791001\n",
       "4     40.271327\n",
       "7     43.583086\n",
       "16    49.333936\n",
       "5     49.504440\n",
       "20    55.995872\n",
       "23    57.292351\n",
       "0     57.294400\n",
       "9     57.816839\n",
       "29    60.224714\n",
       "10    61.129666\n",
       "6     63.676410\n",
       "8     67.757831\n",
       "31    74.542020\n",
       "12    78.064883\n",
       "17    83.627765\n",
       "1     85.577581\n",
       "24    87.905224\n",
       "13    89.020762\n",
       "30    93.920865\n",
       "25    94.700056\n",
       "15    95.899358\n",
       "21    98.738836\n",
       "28    99.062636\n",
       "Name: valure of sales 2019, dtype: float64"
      ]
     },
     "execution_count": 111,
     "metadata": {},
     "output_type": "execute_result"
    }
   ],
   "source": [
    "#Sort data 2019\n",
    "df['valure of sales 2019'].sort_values()"
   ]
  },
  {
   "cell_type": "code",
   "execution_count": 112,
   "metadata": {},
   "outputs": [
    {
     "data": {
      "text/plain": [
       "32"
      ]
     },
     "execution_count": 112,
     "metadata": {},
     "output_type": "execute_result"
    }
   ],
   "source": [
    "len(df['valure of sales 2019'])"
   ]
  },
  {
   "cell_type": "code",
   "execution_count": 113,
   "metadata": {},
   "outputs": [],
   "source": [
    "sorted_2019 = df['valure of sales 2019'].sort_values() "
   ]
  },
  {
   "cell_type": "code",
   "execution_count": 114,
   "metadata": {},
   "outputs": [
    {
     "data": {
      "text/plain": [
       "6.4"
      ]
     },
     "execution_count": 114,
     "metadata": {},
     "output_type": "execute_result"
    }
   ],
   "source": [
    "32/5"
   ]
  },
  {
   "cell_type": "code",
   "execution_count": 115,
   "metadata": {},
   "outputs": [],
   "source": [
    "#build group\n",
    "first_Q1 = sorted_2019[:6].sum()/sorted_2019.sum()\n",
    "second_Q1 = sorted_2019[:12].sum()/sorted_2019.sum()\n",
    "third_Q1 = sorted_2019[:18].sum()/sorted_2019.sum()\n",
    "forth_Q1 = sorted_2019[:24].sum()/sorted_2019.sum()\n",
    "fifth_Q1 = sorted_2019.sum()/sorted_2019.sum()"
   ]
  },
  {
   "cell_type": "code",
   "execution_count": 116,
   "metadata": {},
   "outputs": [],
   "source": [
    "points2019 = [0,first_Q1,second_Q1,third_Q1,forth_Q1,fifth_Q1]\n",
    "x1=[0, .2, .4, .6, .8, 1.0]"
   ]
  },
  {
   "cell_type": "code",
   "execution_count": 117,
   "metadata": {},
   "outputs": [
    {
     "data": {
      "text/plain": [
       "[0,\n",
       " 0.038285237357523955,\n",
       " 0.16556338500132603,\n",
       " 0.3521990261788149,\n",
       " 0.5888814385018243,\n",
       " 1.0]"
      ]
     },
     "execution_count": 117,
     "metadata": {},
     "output_type": "execute_result"
    }
   ],
   "source": [
    "points2019"
   ]
  },
  {
   "cell_type": "markdown",
   "metadata": {},
   "source": [
    "### The points above mean\n",
    "- 0.0382 or 3,82 % of the values of sales are controlled by 20%\n",
    "- 0.1655 of the values of sales are controlled by 40%\n",
    "- 0.352 of the values of sales are controlled by 60%\n",
    "- 0.588 of the values of sales are controlled by 80%\n",
    "- 1.0 of the values of sales are controlled by 100%"
   ]
  },
  {
   "cell_type": "code",
   "execution_count": 118,
   "metadata": {},
   "outputs": [
    {
     "data": {
      "image/png": "[encoded data removed]",
      "text/plain": [
       "<Figure size 432x288 with 1 Axes>"
      ]
     },
     "metadata": {
      "needs_background": "light"
     },
     "output_type": "display_data"
    }
   ],
   "source": [
    "#PLOTTING VALUE OF SALES 2019 \n",
    "plt.plot(x1, points2019, '--o')\n",
    "plt.plot(x1, x1, '--o');\n",
    "plt.title('Value of Sales Distribution in 2019');"
   ]
  },
  {
   "cell_type": "markdown",
   "metadata": {},
   "source": [
    "### INTERPRETATION OF DATA 2019\n",
    "Yellow line is the Gini Index Line\n",
    "Blue line is the Lorenz Curve Line\n",
    "\n",
    "Now we look at the Gini Index as the ratio of the area between those curve to the area in the triangle"
   ]
  },
  {
   "cell_type": "markdown",
   "metadata": {},
   "source": [
    "### FITTING THE POLYNOMIAL 2019 VALUE OF SALES\n",
    "\n",
    "We will create a function through the given points. I use numpy to determine the polynomial till we find a goot fit to our real data\n"
   ]
  },
  {
   "cell_type": "code",
   "execution_count": 119,
   "metadata": {},
   "outputs": [],
   "source": [
    "# 4th degree polynomial\n",
    "coefs2019 = np.polyfit(x1, points2019, 4)"
   ]
  },
  {
   "cell_type": "code",
   "execution_count": 120,
   "metadata": {},
   "outputs": [
    {
     "data": {
      "text/plain": [
       "array([ 2.00553118e+00, -3.54892807e+00,  2.79831887e+00, -2.55821786e-01,\n",
       "        4.49902405e-04])"
      ]
     },
     "execution_count": 120,
     "metadata": {},
     "output_type": "execute_result"
    }
   ],
   "source": [
    "coefs2019"
   ]
  },
  {
   "cell_type": "code",
   "execution_count": 121,
   "metadata": {},
   "outputs": [
    {
     "data": {
      "text/plain": [
       "array([4.49902405e-04, 3.60357253e-02, 1.70062409e-01, 3.47700002e-01,\n",
       "       5.91130951e-01, 9.99550098e-01])"
      ]
     },
     "execution_count": 121,
     "metadata": {},
     "output_type": "execute_result"
    }
   ],
   "source": [
    "# evaluate the polynomial\n",
    "np.polyval(coefs2019,x1)"
   ]
  },
  {
   "cell_type": "code",
   "execution_count": 122,
   "metadata": {},
   "outputs": [
    {
     "data": {
      "image/png": "[encoded data removed]",
      "text/plain": [
       "<Figure size 432x288 with 1 Axes>"
      ]
     },
     "metadata": {
      "needs_background": "light"
     },
     "output_type": "display_data"
    }
   ],
   "source": [
    "#PLOTTING 2019\n",
    "plt.plot(x1, np.polyval(coefs2019,x1),'--v', label ='approximation')\n",
    "plt.plot(x1, points2019, '--o', label = 'data')\n",
    "plt.plot(x1, x1,color='green');\n",
    "plt.title('FITTED CURVE AGAINST DATA');"
   ]
  },
  {
   "cell_type": "code",
   "execution_count": 123,
   "metadata": {},
   "outputs": [
    {
     "data": {
      "text/plain": [
       "array([ 2.006, -3.549,  2.798, -0.256,  0.   ])"
      ]
     },
     "execution_count": 123,
     "metadata": {},
     "output_type": "execute_result"
    }
   ],
   "source": [
    "np.round(coefs2019, decimals =3)"
   ]
  },
  {
   "cell_type": "code",
   "execution_count": 124,
   "metadata": {},
   "outputs": [],
   "source": [
    "## LORENZ CURVE 2019\n",
    "def L(x1):\n",
    "    return 2.006*x1**4 -3.549*x1**3 +2.798*x1**2 -.0256*x1"
   ]
  },
  {
   "cell_type": "code",
   "execution_count": 125,
   "metadata": {},
   "outputs": [],
   "source": [
    "def E(x1): return x1"
   ]
  },
  {
   "cell_type": "code",
   "execution_count": 126,
   "metadata": {},
   "outputs": [],
   "source": [
    "x1 = np.array(x1)"
   ]
  },
  {
   "cell_type": "code",
   "execution_count": 127,
   "metadata": {},
   "outputs": [
    {
     "data": {
      "image/png": "[encoded data removed]",
      "text/plain": [
       "<Figure size 432x288 with 1 Axes>"
      ]
     },
     "metadata": {
      "needs_background": "light"
     },
     "output_type": "display_data"
    }
   ],
   "source": [
    "plt.plot(x1, L(x1), '--o', color ='red')\n",
    "plt.plot(x1, points2019);"
   ]
  },
  {
   "cell_type": "markdown",
   "metadata": {},
   "source": [
    "Now we see from the graph above, we have function slightly above to our data"
   ]
  },
  {
   "cell_type": "markdown",
   "metadata": {},
   "source": [
    "### COMPUTE GINI INDEX"
   ]
  },
  {
   "cell_type": "code",
   "execution_count": 129,
   "metadata": {},
   "outputs": [
    {
     "data": {
      "image/png": "[encoded data removed]",
      "text/plain": [
       "<Figure size 432x288 with 1 Axes>"
      ]
     },
     "metadata": {
      "needs_background": "light"
     },
     "output_type": "display_data"
    }
   ],
   "source": [
    "#PLOTTING 2019\n",
    "plt.plot(x1, L(x1), '--o', label = 'Lorenz')\n",
    "plt.plot(x1, E(x1),color='pink', label='Equality');\n",
    "plt.fill_between(x1, L(x1),E(x1), color='yellow',alpha=0.6)\n",
    "plt.fill_between(x1, L(x1),color='lightblue',alpha=0.6)\n",
    "plt.text(0.4, 0.2, 'A1',size=16)\n",
    "plt.text(0.8, 0.1, 'A2',size=16)\n",
    "plt.legend();"
   ]
  },
  {
   "cell_type": "markdown",
   "metadata": {},
   "source": [
    "### EVALUATING INTEGRAL"
   ]
  },
  {
   "cell_type": "code",
   "execution_count": 130,
   "metadata": {},
   "outputs": [],
   "source": [
    "#AREA UNDER THE CURVE\n",
    "from scipy.integrate import quad"
   ]
  },
  {
   "cell_type": "code",
   "execution_count": 131,
   "metadata": {},
   "outputs": [],
   "source": [
    "def a2(x1):\n",
    "    return E(x1) - L(x1)"
   ]
  },
  {
   "cell_type": "code",
   "execution_count": 132,
   "metadata": {},
   "outputs": [
    {
     "data": {
      "text/plain": [
       "0.0661833333333333"
      ]
     },
     "execution_count": 132,
     "metadata": {},
     "output_type": "execute_result"
    }
   ],
   "source": [
    "quad(a2,0,1)[0] # let's find the area from 0 to 1"
   ]
  },
  {
   "cell_type": "code",
   "execution_count": 133,
   "metadata": {},
   "outputs": [
    {
     "data": {
      "text/plain": [
       "0.1323666666666666"
      ]
     },
     "execution_count": 133,
     "metadata": {},
     "output_type": "execute_result"
    }
   ],
   "source": [
    "2*quad(a2,0,1)[0]"
   ]
  },
  {
   "cell_type": "markdown",
   "metadata": {},
   "source": [
    "#### So we get from data Gini index for Value of sales 2019 is 0.1323 or 13,23%.\n",
    "#### What does this mean ? From gini index we get it was pretty equal. The lower the value the more equal distribution is."
   ]
  },
  {
   "cell_type": "code",
   "execution_count": null,
   "metadata": {},
   "outputs": [],
   "source": []
  }
 ],
 "metadata": {
  "kernelspec": {
   "display_name": "Python 3",
   "language": "python",
   "name": "python3"
  },
  "language_info": {
   "codemirror_mode": {
    "name": "ipython",
    "version": 3
   },
   "file_extension": ".py",
   "mimetype": "text/x-python",
   "name": "python",
   "nbconvert_exporter": "python",
   "pygments_lexer": "ipython3",
   "version": "3.8.5"
  }
 },
 "nbformat": 4,
 "nbformat_minor": 4
}
